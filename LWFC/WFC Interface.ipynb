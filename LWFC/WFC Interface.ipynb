{
 "cells": [
  {
   "cell_type": "code",
   "execution_count": null,
   "id": "29d09632-98ba-47cf-b61b-d82427d19f98",
   "metadata": {},
   "outputs": [],
   "source": [
    "#not implemented because I couldn't figure out how interfaces work in python\n",
    "\n",
    "from abc import ABC\n",
    "\n",
    "class WFC_node_graph(ABC):\n",
    "    def __init\n",
    "class WFC_node(ABC):\n",
    "    \n",
    "class WFC_node_states(ABC):\n",
    "    \n",
    "    @abstractmethod\n",
    "    def __init__(self, numOfStates):\n",
    "        \n",
    "    def getDataOfState(self, stateIndex):\n",
    "        "
   ]
  }
 ],
 "metadata": {
  "kernelspec": {
   "display_name": "Python 3 (ipykernel)",
   "language": "python",
   "name": "python3"
  },
  "language_info": {
   "codemirror_mode": {
    "name": "ipython",
    "version": 3
   },
   "file_extension": ".py",
   "mimetype": "text/x-python",
   "name": "python",
   "nbconvert_exporter": "python",
   "pygments_lexer": "ipython3",
   "version": "3.10.8"
  },
  "widgets": {
   "application/vnd.jupyter.widget-state+json": {
    "state": {},
    "version_major": 2,
    "version_minor": 0
   }
  }
 },
 "nbformat": 4,
 "nbformat_minor": 5
}
