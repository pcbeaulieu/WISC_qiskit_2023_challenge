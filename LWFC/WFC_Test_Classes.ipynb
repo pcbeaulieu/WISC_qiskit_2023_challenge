{
 "cells": [
  {
   "cell_type": "code",
   "execution_count": 17,
   "id": "effa54ff-290e-4e54-816f-924b4ab00bf9",
   "metadata": {},
   "outputs": [],
   "source": [
    "from qiskit import QuantumCircuit, transpile\n",
    "from qiskit.tools.jupyter import *\n",
    "from qiskit.visualization import *\n",
    "from ibm_quantum_widgets import *\n",
    "\n",
    "class Test_node_graph:\n",
    "\n",
    "\n",
    "    #numberOfStates\n",
    "    #nodesMatrix\n",
    "    #statesArray\n",
    "    #relationshipsArray\n",
    "    #width\n",
    "    #height\n",
    "    #qc\n",
    "    \n",
    "    def __init__(self, nStates, width, height, input_states, input_relationships):\n",
    "        self.numberOfStates = nStates\n",
    "        self.states = input_states\n",
    "        self.relationships = input_relationships\n",
    "        self.width = width\n",
    "        self.height = height\n",
    "        self.qc = QuantumCircuit()\n",
    "        self.nodes = [[Test_node(nStates, self.qc) for x in range(width)] for y in range(height)] \n",
    "        #having trouble trying to initialize a quantum circuit with an arbitrary number of 4-qubit quantum and classical registers - to fix later\n",
    "    def setNodesToWstate(self):\n",
    "        for x in range (width):\n",
    "            for y in range (height):\n",
    "                self.nodes[x][y].put_in_W_state\n",
    "        return\n",
    "    \n",
    "    def entangleNodes(baseNode, targetNode, relationship):\n",
    "        #to be written later\n",
    "        #basic logic is as follows\n",
    "        #let X_a denote the ath qubit of the basenode quantum register and Y_b denote the bth qubit of the targetNode\n",
    "        #For the |1> state of X_a, make is so that Y_b has to be 0 if relationship.validityMatrix[a][b] is 0\n",
    "        #This is the process that eliminates invalid adjacencies\n",
    "        #do this for all X_a in baseNode and Y_b in targetNode\n",
    "        #this seems like it should work but I have little confidence that this specific version will work even without an implementation.\n",
    "        return\n",
    "    \n",
    "    def networkNodesTogether(self):\n",
    "        #columns first\n",
    "        for x in range(width):\n",
    "            for y in range (height - 1):\n",
    "                #assume that relationship [0] is left, [1] is right, [2] is up, [3] is down. \n",
    "                #Redundent since the left adjacency matrix is the transpose of the right matrix, and up is the transpose matrix of down\n",
    "                #but whatever\n",
    "                Test_node_graph.entangleNodes(self.nodes[x][y], self.nodes[x][y+1], self.relationships[3])\n",
    "                #if this entanglement turns out to be one way then repeat this pair of nested for loops backwards with the up relationship\n",
    "        #now for rows\n",
    "        for x in range(width - 1):\n",
    "            for y in range (height):\n",
    "                Test_node_graph.entangleNodes(self.nodes[x][y], self.nodes[x+1][y], self.relationships[1])\n",
    "                #again if this entanglement turns out to be one way then repeat this pair of nested forloops backwards with the left relationship\n",
    "        return\n",
    "    \n",
    "    def measureSpecificNode(self, x, y):\n",
    "        self.nodes[x][y].measure\n",
    "        return\n",
    "    \n",
    "    def measureAllNodes(self):\n",
    "        for x in range (width):\n",
    "            for y in range (height):\n",
    "                self.nodes[x][y].measure\n",
    "        return\n",
    "    \n",
    "    def printOutNodeData(self):\n",
    "        for y in range (height):\n",
    "            print(\"\\n\" + self.nodes[0][y])\n",
    "            for x in range (1, width):\n",
    "                print(self.nodes[x][y].report)\n",
    "            \n",
    "        \n",
    "class Test_node:\n",
    "    \n",
    "    #qStateRegister\n",
    "    #cStateRegister\n",
    "    #measured\n",
    "    #qc\n",
    "    #numStates\n",
    "    \n",
    "    def __init__(self, numberOfStates, qcirc):\n",
    "        self.qStateRegister = QuantumRegister(numberOfStates, name=\"qstate\")\n",
    "        self.cStateRegister = ClassicalRegister(numberOfStates, name=\"cstate\")\n",
    "        self.measured = false\n",
    "        self.qc = qcirc\n",
    "        Test_node.numStates = numberOfStates\n",
    "    \n",
    "    def put_in_W_state(self):\n",
    "        #insert quantum circuit for establishing an n length W state\n",
    "        return\n",
    "    \n",
    "    def measure(self):\n",
    "        qc.measure(qStateRegister, cStateRegister)\n",
    "        measured = true\n",
    "        return\n",
    "    \n",
    "    def report(self, stateArray):\n",
    "        if measured:\n",
    "            for i in range(numStates):\n",
    "                if cStateRegister.bits[i] == 1:\n",
    "                    return stateArray[i].char\n",
    "        else:\n",
    "            return '?'\n",
    "        return '!'\n",
    "\n",
    "class Test_node_state:\n",
    "    \n",
    "    #char\n",
    "    \n",
    "    def __init__(self, character):\n",
    "        self.char = character\n",
    "    \n",
    "class Test_node_relationship:\n",
    "\n",
    "    #validityMatrix\n",
    "    #name\n",
    "    \n",
    "    def __init__(self, vMatrix, initname):\n",
    "        self.validityMatrix = vMatrix\n",
    "        self.name = initname\n",
    "        \n",
    "    def isValid(self, x, y):\n",
    "        if (self.validityMatrix[x][y] == 1):\n",
    "            return true\n",
    "\n",
    "        elif (self.validityMatrix[x][y] == 0):\n",
    "            return false\n",
    "        \n",
    "        else:\n",
    "            return ##idk throw some error or something\n",
    "    "
   ]
  },
  {
   "cell_type": "code",
   "execution_count": null,
   "id": "2c092dcd-81f0-490a-a5f6-d195ed4ebb6b",
   "metadata": {},
   "outputs": [],
   "source": []
  }
 ],
 "metadata": {
  "kernelspec": {
   "display_name": "Python 3 (ipykernel)",
   "language": "python",
   "name": "python3"
  },
  "language_info": {
   "codemirror_mode": {
    "name": "ipython",
    "version": 3
   },
   "file_extension": ".py",
   "mimetype": "text/x-python",
   "name": "python",
   "nbconvert_exporter": "python",
   "pygments_lexer": "ipython3",
   "version": "3.10.8"
  },
  "widgets": {
   "application/vnd.jupyter.widget-state+json": {
    "state": {
     "009d254475784d3aac842139a7a101c6": {
      "model_module": "@jupyter-widgets/base",
      "model_module_version": "2.0.0",
      "model_name": "LayoutModel",
      "state": {
       "grid_area": "right",
       "padding": "0px 0px 0px 0px",
       "width": "70px"
      }
     },
     "187ad7ecbe2942af879ae64a5d6d4781": {
      "model_module": "@jupyter-widgets/controls",
      "model_module_version": "2.0.0",
      "model_name": "HTMLStyleModel",
      "state": {
       "description_width": "",
       "font_size": null,
       "text_color": null
      }
     },
     "190a0632cde04b12b091d17e023315a1": {
      "model_module": "@jupyter-widgets/base",
      "model_module_version": "2.0.0",
      "model_name": "LayoutModel",
      "state": {}
     },
     "1e0afc7206554e26943cb3beb3073f8d": {
      "model_module": "@jupyter-widgets/base",
      "model_module_version": "2.0.0",
      "model_name": "LayoutModel",
      "state": {
       "width": "145px"
      }
     },
     "2e46dd8941e54ef18f0af8f5ba7d3228": {
      "model_module": "@jupyter-widgets/controls",
      "model_module_version": "2.0.0",
      "model_name": "HTMLStyleModel",
      "state": {
       "description_width": "",
       "font_size": null,
       "text_color": null
      }
     },
     "41ce867c5e434de79e3f904b4010e4be": {
      "model_module": "@jupyter-widgets/controls",
      "model_module_version": "2.0.0",
      "model_name": "HTMLStyleModel",
      "state": {
       "description_width": "",
       "font_size": null,
       "text_color": null
      }
     },
     "5860ddb3231549a69f1744009aaff7fd": {
      "model_module": "@jupyter-widgets/controls",
      "model_module_version": "2.0.0",
      "model_name": "HTMLModel",
      "state": {
       "layout": "IPY_MODEL_1e0afc7206554e26943cb3beb3073f8d",
       "style": "IPY_MODEL_2e46dd8941e54ef18f0af8f5ba7d3228",
       "value": "<h5>Backend</h5>"
      }
     },
     "5f311c706e2d444f9ce5dbc99c0d7a91": {
      "model_module": "@jupyter-widgets/controls",
      "model_module_version": "2.0.0",
      "model_name": "ButtonStyleModel",
      "state": {
       "font_family": null,
       "font_size": null,
       "font_style": null,
       "font_variant": null,
       "font_weight": null,
       "text_color": null,
       "text_decoration": null
      }
     },
     "6176b49f607e4fa5a9328674d49e938a": {
      "model_module": "@jupyter-widgets/base",
      "model_module_version": "2.0.0",
      "model_name": "LayoutModel",
      "state": {
       "margin": "0px 0px 10px 0px"
      }
     },
     "6184d74242d14bc1bf45e903f137bea1": {
      "model_module": "@jupyter-widgets/controls",
      "model_module_version": "2.0.0",
      "model_name": "HTMLModel",
      "state": {
       "layout": "IPY_MODEL_baaa1517dfb3408c9cc056f865190641",
       "style": "IPY_MODEL_187ad7ecbe2942af879ae64a5d6d4781",
       "value": "<h5>Job ID</h5>"
      }
     },
     "741a11d9c16c4fe58d2c11c0a54008a6": {
      "model_module": "@jupyter-widgets/controls",
      "model_module_version": "2.0.0",
      "model_name": "HBoxModel",
      "state": {
       "children": [
        "IPY_MODEL_6184d74242d14bc1bf45e903f137bea1",
        "IPY_MODEL_5860ddb3231549a69f1744009aaff7fd",
        "IPY_MODEL_86f1f48083614fbe8c9b98796e8a566d",
        "IPY_MODEL_cbeee0a829d8478199aae6c2a42bce25",
        "IPY_MODEL_872506cf1af14130a4bac62f6d0c5dc8"
       ],
       "layout": "IPY_MODEL_86fa23ac8b6a40ebb87028485675bae5"
      }
     },
     "82bcfcbfd8ff412598913402b63ecace": {
      "model_module": "@jupyter-widgets/controls",
      "model_module_version": "2.0.0",
      "model_name": "HTMLStyleModel",
      "state": {
       "description_width": "",
       "font_size": null,
       "text_color": null
      }
     },
     "86f1f48083614fbe8c9b98796e8a566d": {
      "model_module": "@jupyter-widgets/controls",
      "model_module_version": "2.0.0",
      "model_name": "HTMLModel",
      "state": {
       "layout": "IPY_MODEL_ccf26208e9424149bf3c0b9ed9be67a9",
       "style": "IPY_MODEL_82bcfcbfd8ff412598913402b63ecace",
       "value": "<h5>Status</h5>"
      }
     },
     "86fa23ac8b6a40ebb87028485675bae5": {
      "model_module": "@jupyter-widgets/base",
      "model_module_version": "2.0.0",
      "model_name": "LayoutModel",
      "state": {
       "margin": "0px 0px 0px 37px",
       "width": "600px"
      }
     },
     "872506cf1af14130a4bac62f6d0c5dc8": {
      "model_module": "@jupyter-widgets/controls",
      "model_module_version": "2.0.0",
      "model_name": "HTMLModel",
      "state": {
       "layout": "IPY_MODEL_190a0632cde04b12b091d17e023315a1",
       "style": "IPY_MODEL_41ce867c5e434de79e3f904b4010e4be",
       "value": "<h5>Message</h5>"
      }
     },
     "92d1569bedf648ceabab4a598c2491da": {
      "model_module": "@jupyter-widgets/controls",
      "model_module_version": "2.0.0",
      "model_name": "GridBoxModel",
      "state": {
       "children": [
        "IPY_MODEL_bdb0b913de6444cebcf58f8b662a4250"
       ],
       "layout": "IPY_MODEL_9c3a258c043840909ac752f6f247796f"
      }
     },
     "9c3a258c043840909ac752f6f247796f": {
      "model_module": "@jupyter-widgets/base",
      "model_module_version": "2.0.0",
      "model_name": "LayoutModel",
      "state": {
       "grid_template_areas": "\n                                       \". . . . right \"\n                                        ",
       "grid_template_columns": "20% 20% 20% 20% 20%",
       "width": "100%"
      }
     },
     "b08f3b68bc7245f9b8451346b84b1d98": {
      "model_module": "@jupyter-widgets/base",
      "model_module_version": "2.0.0",
      "model_name": "LayoutModel",
      "state": {
       "width": "70px"
      }
     },
     "b9f6c2be7011468389ae60615cec4225": {
      "model_module": "@jupyter-widgets/controls",
      "model_module_version": "2.0.0",
      "model_name": "HTMLModel",
      "state": {
       "layout": "IPY_MODEL_6176b49f607e4fa5a9328674d49e938a",
       "style": "IPY_MODEL_eef5b44a9829466cab0f90265f980762",
       "value": "<p style='font-family: IBM Plex Sans, Arial, Helvetica, sans-serif; font-size: 20px; font-weight: medium;'>Circuit Properties</p>"
      }
     },
     "baaa1517dfb3408c9cc056f865190641": {
      "model_module": "@jupyter-widgets/base",
      "model_module_version": "2.0.0",
      "model_name": "LayoutModel",
      "state": {
       "width": "190px"
      }
     },
     "bdb0b913de6444cebcf58f8b662a4250": {
      "model_module": "@jupyter-widgets/controls",
      "model_module_version": "2.0.0",
      "model_name": "ButtonModel",
      "state": {
       "button_style": "primary",
       "description": "Clear",
       "layout": "IPY_MODEL_009d254475784d3aac842139a7a101c6",
       "style": "IPY_MODEL_5f311c706e2d444f9ce5dbc99c0d7a91",
       "tooltip": null
      }
     },
     "cbeee0a829d8478199aae6c2a42bce25": {
      "model_module": "@jupyter-widgets/controls",
      "model_module_version": "2.0.0",
      "model_name": "HTMLModel",
      "state": {
       "layout": "IPY_MODEL_b08f3b68bc7245f9b8451346b84b1d98",
       "style": "IPY_MODEL_e494ca39f4c24621826c1ecefc333e5e",
       "value": "<h5>Queue</h5>"
      }
     },
     "ccf26208e9424149bf3c0b9ed9be67a9": {
      "model_module": "@jupyter-widgets/base",
      "model_module_version": "2.0.0",
      "model_name": "LayoutModel",
      "state": {
       "width": "95px"
      }
     },
     "e494ca39f4c24621826c1ecefc333e5e": {
      "model_module": "@jupyter-widgets/controls",
      "model_module_version": "2.0.0",
      "model_name": "HTMLStyleModel",
      "state": {
       "description_width": "",
       "font_size": null,
       "text_color": null
      }
     },
     "eef5b44a9829466cab0f90265f980762": {
      "model_module": "@jupyter-widgets/controls",
      "model_module_version": "2.0.0",
      "model_name": "HTMLStyleModel",
      "state": {
       "description_width": "",
       "font_size": null,
       "text_color": null
      }
     }
    },
    "version_major": 2,
    "version_minor": 0
   }
  }
 },
 "nbformat": 4,
 "nbformat_minor": 5
}
