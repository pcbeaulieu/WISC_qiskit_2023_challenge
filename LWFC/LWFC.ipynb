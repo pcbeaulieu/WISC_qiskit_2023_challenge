{
 "cells": [
  {
   "cell_type": "code",
   "execution_count": 6,
   "id": "eab242be-2696-4908-8c9e-95b6291300b7",
   "metadata": {
    "tags": []
   },
   "outputs": [
    {
     "name": "stdout",
     "output_type": "stream",
     "text": [
      "Traceback \u001b[1;36m(most recent call last)\u001b[0m:\n",
      "\u001b[0m  Cell \u001b[0;32mIn[6], line 29\u001b[0m\n",
      "    nodeGraph = Test_node_graph(numberStates, 5, 5, stateArray, relationshipsArray)\u001b[0m\n",
      "\u001b[0m  File \u001b[0;32m/tmp/ipykernel_198/3845820990.py:23\u001b[0m in \u001b[0;35m__init__\u001b[0m\n",
      "    self.nodes = [[Test_node(nStates) for x in range(width)] for y in range(height)]\u001b[0m\n",
      "\u001b[0m  File \u001b[0;32m/tmp/ipykernel_198/3845820990.py:23\u001b[0m in \u001b[0;35m<listcomp>\u001b[0m\n",
      "    self.nodes = [[Test_node(nStates) for x in range(width)] for y in range(height)]\u001b[0m\n",
      "\u001b[1;36m  File \u001b[1;32m/tmp/ipykernel_198/3845820990.py:23\u001b[1;36m in \u001b[1;35m<listcomp>\u001b[1;36m\n",
      "\u001b[1;33m    self.nodes = [[Test_node(nStates) for x in range(width)] for y in range(height)]\u001b[1;36m\n",
      "\u001b[1;31mTypeError\u001b[0m\u001b[1;31m:\u001b[0m Test_node.__init__() missing 1 required positional argument: 'qcirc'\n",
      "\n",
      "Use %tb to get the full traceback.\n"
     ]
    },
    {
     "data": {
      "text/html": [
       "\n",
       "<style>\n",
       ".button {\n",
       "  border: none;\n",
       "  color: white;\n",
       "  padding: 4px 8px;\n",
       "  text-align: center;\n",
       "  text-decoration: none;\n",
       "  display: inline-block;\n",
       "  font-size: 12px;\n",
       "  margin: 4px 2px;\n",
       "  transition-duration: 0.2s;\n",
       "  cursor: pointer;\n",
       "}\n",
       ".iqx-button {\n",
       "  background-color: #0f62fe; \n",
       "  color: white; \n",
       "}\n",
       ".iqx-button:hover {\n",
       "  background-color: #0043ce;\n",
       "  color: white;\n",
       "}\n",
       "</style>\n",
       "<a href=\"https://stackoverflow.com/search?q=TypeError: Test_node.__init__() missing 1 required positional argument: 'qcirc'\" target='_blank'><button class='button iqx-button'>Search for solution online</button></a>\n"
      ],
      "text/plain": [
       "<IPython.core.display.HTML object>"
      ]
     },
     "metadata": {},
     "output_type": "display_data"
    }
   ],
   "source": [
    "# Importing standard Qiskit libraries\n",
    "from qiskit import QuantumCircuit, transpile\n",
    "from qiskit.tools.jupyter import *\n",
    "from qiskit.visualization import *\n",
    "from ibm_quantum_widgets import *\n",
    "%run WFC_Test_Classes.ipynb\n",
    "# qiskit-ibmq-provider has been deprecated.\n",
    "# Please see the Migration Guides in https://ibm.biz/provider_migration_guide for more detail.\n",
    "from qiskit_ibm_runtime import QiskitRuntimeService, Sampler, Estimator, Session, Options\n",
    "\n",
    "# Loading your IBM Quantum account(s)\n",
    "service = QiskitRuntimeService(channel=\"ibm_quantum\")\n",
    "\n",
    "#lets say we want a scene with a ground, brick walls & roof, indoor air, and outdoor air\n",
    "#represented by the symbols G B = and ~\n",
    "numberStates = 4\n",
    "stateArray = (Test_node_state('G'), Test_node_state('B'), Test_node_state('='), Test_node_state('~'))\n",
    "\n",
    "#first cordinate determins base state index, second in target state index\n",
    "\n",
    "Up_adjacency_Matrix = ((1, 1, 1, 1), (0, 1, 0, 1), (0, 1, 1, 0), (0, 0, 0, 1))\n",
    "Down_adjacency_Matrix = ((1, 0, 0, 0), (1, 1, 1, 0), (1, 0, 1, 0), (1, 1, 0, 1))\n",
    "Left_adjacency_Matrix = ((1, 0, 0, 0), (0, 1, 1, 1), (0, 1, 1, 0), (0, 1, 0, 1))\n",
    "Right_adjacency_Matrix = ((1, 0, 0, 0), (0, 1, 1, 1), (0, 1, 1, 0), (0, 1, 0, 1))\n",
    "\n",
    "relationshipsArray = (Test_node_relationship(Left_adjacency_Matrix, \"Left\"), Test_node_relationship(Right_adjacency_Matrix, \"Right\"), Test_node_relationship(Left_adjacency_Matrix, \"Up\"), Test_node_relationship(Right_adjacency_Matrix, \"Down\")) \n",
    "\n",
    "#lets say we want a 5x5 graph\n",
    "nodeGraph = Test_node_graph(numberStates, 5, 5, stateArray, relationshipsArray)\n",
    "\n",
    "#Here are the steps for the algorithmn:\n",
    "#1). set everything up (done)\n",
    "\n",
    "#2). Initialize all nodes to a W state to model the fact that every node can ultimatly only have one state\n",
    "nodeGraph.setNodesToWstate()\n",
    "\n",
    "#3). Entangle nodes with their neighbors based off of adjacency rules\n",
    "nodeGraph.networkNodesTogether()\n",
    "\n",
    "#4). If necissary narrow down edge cases in case that ends up being an issue once actually implemented\n",
    "\n",
    "#5). Either make iterative measurements of the lowest entropy nodes and correct other nodes OR just measure all the nodes at once, which is what is being implemented here \n",
    "#Hopefully ends up working in the end, since the entanglement would ideally cascade on its own and not need iterative corrections which is the whole point of making this quantum\n",
    "nodeGraph.measureAllNodes()\n",
    "\n",
    "#6). Print out the data to console to get your picture\n",
    "nodeGraph.printOutNodeData()\n",
    "\n",
    "#Hopefully that ends up working once I actually implement the actual quantum circuits\n",
    "\n",
    "\n",
    "\n",
    "# Invoke a primitive. For more details see https://qiskit.org/documentation/partners/qiskit_ibm_runtime/tutorials.html\n",
    "# result = Sampler(\"ibmq_qasm_simulator\").run(circuits).result()"
   ]
  },
  {
   "cell_type": "code",
   "execution_count": null,
   "id": "d896c6ce-faed-4070-821c-be62f2e7dc0d",
   "metadata": {},
   "outputs": [],
   "source": []
  },
  {
   "cell_type": "code",
   "execution_count": null,
   "id": "2d8fca92-87a6-44b7-b641-91c24f4caeef",
   "metadata": {},
   "outputs": [],
   "source": []
  }
 ],
 "metadata": {
  "kernelspec": {
   "display_name": "Python 3 (ipykernel)",
   "language": "python",
   "name": "python3"
  },
  "language_info": {
   "codemirror_mode": {
    "name": "ipython",
    "version": 3
   },
   "file_extension": ".py",
   "mimetype": "text/x-python",
   "name": "python",
   "nbconvert_exporter": "python",
   "pygments_lexer": "ipython3",
   "version": "3.10.8"
  },
  "widgets": {
   "application/vnd.jupyter.widget-state+json": {
    "state": {
     "000f20e6634743dbb57c7f53ab6112be": {
      "model_module": "@jupyter-widgets/base",
      "model_module_version": "2.0.0",
      "model_name": "LayoutModel",
      "state": {}
     },
     "047856a763964e3eb11b750147164113": {
      "model_module": "@jupyter-widgets/base",
      "model_module_version": "2.0.0",
      "model_name": "LayoutModel",
      "state": {
       "grid_area": "right",
       "padding": "0px 0px 0px 0px",
       "width": "70px"
      }
     },
     "15c667d4cb2d4914936a045b7f55b30e": {
      "model_module": "@jupyter-widgets/base",
      "model_module_version": "2.0.0",
      "model_name": "LayoutModel",
      "state": {
       "width": "95px"
      }
     },
     "20780cd18921422886d2e789f54d02b3": {
      "model_module": "@jupyter-widgets/controls",
      "model_module_version": "2.0.0",
      "model_name": "HTMLStyleModel",
      "state": {
       "description_width": "",
       "font_size": null,
       "text_color": null
      }
     },
     "2194e85e9dcc4e93a44f6ba4c57bd6c7": {
      "model_module": "@jupyter-widgets/base",
      "model_module_version": "2.0.0",
      "model_name": "LayoutModel",
      "state": {
       "margin": "0px 0px 0px 37px",
       "width": "600px"
      }
     },
     "25ab3dabddee4c9f990aa8945274d6f2": {
      "model_module": "@jupyter-widgets/base",
      "model_module_version": "2.0.0",
      "model_name": "LayoutModel",
      "state": {
       "width": "190px"
      }
     },
     "261581d9d9a4487694747ec06d8b93e7": {
      "model_module": "@jupyter-widgets/controls",
      "model_module_version": "2.0.0",
      "model_name": "HTMLModel",
      "state": {
       "layout": "IPY_MODEL_25ab3dabddee4c9f990aa8945274d6f2",
       "style": "IPY_MODEL_a07eb24709444aca83cfa74e45488020",
       "value": "<h5>Job ID</h5>"
      }
     },
     "41280b5dbbbc41e3a513bf9fac83bc4e": {
      "model_module": "@jupyter-widgets/controls",
      "model_module_version": "2.0.0",
      "model_name": "GridBoxModel",
      "state": {
       "children": [
        "IPY_MODEL_57c39f6f72994b2bbe3e0a0e7aa107c3"
       ],
       "layout": "IPY_MODEL_ed1f990692bc48608acef9aa72c913cc"
      }
     },
     "57c39f6f72994b2bbe3e0a0e7aa107c3": {
      "model_module": "@jupyter-widgets/controls",
      "model_module_version": "2.0.0",
      "model_name": "ButtonModel",
      "state": {
       "button_style": "primary",
       "description": "Clear",
       "layout": "IPY_MODEL_047856a763964e3eb11b750147164113",
       "style": "IPY_MODEL_8c85ffd90c894b3b9076ecf67889ed1f",
       "tooltip": null
      }
     },
     "6155bfa6ec1f4b3aa072dd5b58de92d9": {
      "model_module": "@jupyter-widgets/base",
      "model_module_version": "2.0.0",
      "model_name": "LayoutModel",
      "state": {
       "width": "145px"
      }
     },
     "63e6a7c5ff7b47e0aab360546d322b76": {
      "model_module": "@jupyter-widgets/controls",
      "model_module_version": "2.0.0",
      "model_name": "HTMLModel",
      "state": {
       "layout": "IPY_MODEL_000f20e6634743dbb57c7f53ab6112be",
       "style": "IPY_MODEL_8e9dda5ced584a4286b2278250cd8f4b",
       "value": "<h5>Message</h5>"
      }
     },
     "704aff60b2b9412ea3993dc2e4ebb706": {
      "model_module": "@jupyter-widgets/controls",
      "model_module_version": "2.0.0",
      "model_name": "HTMLModel",
      "state": {
       "layout": "IPY_MODEL_15c667d4cb2d4914936a045b7f55b30e",
       "style": "IPY_MODEL_8b9a6f135604442095c0e3644dca8d7d",
       "value": "<h5>Status</h5>"
      }
     },
     "74d9e305b4654634b26c5b1660ddf2bd": {
      "model_module": "@jupyter-widgets/controls",
      "model_module_version": "2.0.0",
      "model_name": "HTMLModel",
      "state": {
       "layout": "IPY_MODEL_6155bfa6ec1f4b3aa072dd5b58de92d9",
       "style": "IPY_MODEL_20780cd18921422886d2e789f54d02b3",
       "value": "<h5>Backend</h5>"
      }
     },
     "7ade9369c064437fb34a181f0985c319": {
      "model_module": "@jupyter-widgets/controls",
      "model_module_version": "2.0.0",
      "model_name": "HTMLStyleModel",
      "state": {
       "description_width": "",
       "font_size": null,
       "text_color": null
      }
     },
     "861c21f43982464394a39361a9dfe41c": {
      "model_module": "@jupyter-widgets/base",
      "model_module_version": "2.0.0",
      "model_name": "LayoutModel",
      "state": {
       "width": "70px"
      }
     },
     "8b9a6f135604442095c0e3644dca8d7d": {
      "model_module": "@jupyter-widgets/controls",
      "model_module_version": "2.0.0",
      "model_name": "HTMLStyleModel",
      "state": {
       "description_width": "",
       "font_size": null,
       "text_color": null
      }
     },
     "8c85ffd90c894b3b9076ecf67889ed1f": {
      "model_module": "@jupyter-widgets/controls",
      "model_module_version": "2.0.0",
      "model_name": "ButtonStyleModel",
      "state": {
       "font_family": null,
       "font_size": null,
       "font_style": null,
       "font_variant": null,
       "font_weight": null,
       "text_color": null,
       "text_decoration": null
      }
     },
     "8dbb142a155f4a4a9e83566e42f8c032": {
      "model_module": "@jupyter-widgets/controls",
      "model_module_version": "2.0.0",
      "model_name": "HTMLStyleModel",
      "state": {
       "description_width": "",
       "font_size": null,
       "text_color": null
      }
     },
     "8e9dda5ced584a4286b2278250cd8f4b": {
      "model_module": "@jupyter-widgets/controls",
      "model_module_version": "2.0.0",
      "model_name": "HTMLStyleModel",
      "state": {
       "description_width": "",
       "font_size": null,
       "text_color": null
      }
     },
     "a07eb24709444aca83cfa74e45488020": {
      "model_module": "@jupyter-widgets/controls",
      "model_module_version": "2.0.0",
      "model_name": "HTMLStyleModel",
      "state": {
       "description_width": "",
       "font_size": null,
       "text_color": null
      }
     },
     "afede324fdb7473abde1c1ea5ba9ca47": {
      "model_module": "@jupyter-widgets/base",
      "model_module_version": "2.0.0",
      "model_name": "LayoutModel",
      "state": {
       "margin": "0px 0px 10px 0px"
      }
     },
     "d87f840093aa456ab78f3437b0963578": {
      "model_module": "@jupyter-widgets/controls",
      "model_module_version": "2.0.0",
      "model_name": "HTMLModel",
      "state": {
       "layout": "IPY_MODEL_afede324fdb7473abde1c1ea5ba9ca47",
       "style": "IPY_MODEL_7ade9369c064437fb34a181f0985c319",
       "value": "<p style='font-family: IBM Plex Sans, Arial, Helvetica, sans-serif; font-size: 20px; font-weight: medium;'>Circuit Properties</p>"
      }
     },
     "e4ea09aa01d34618b68978166f56fb64": {
      "model_module": "@jupyter-widgets/controls",
      "model_module_version": "2.0.0",
      "model_name": "HBoxModel",
      "state": {
       "children": [
        "IPY_MODEL_261581d9d9a4487694747ec06d8b93e7",
        "IPY_MODEL_74d9e305b4654634b26c5b1660ddf2bd",
        "IPY_MODEL_704aff60b2b9412ea3993dc2e4ebb706",
        "IPY_MODEL_edc0dbebea8640e0811d5516a50a27bb",
        "IPY_MODEL_63e6a7c5ff7b47e0aab360546d322b76"
       ],
       "layout": "IPY_MODEL_2194e85e9dcc4e93a44f6ba4c57bd6c7"
      }
     },
     "ed1f990692bc48608acef9aa72c913cc": {
      "model_module": "@jupyter-widgets/base",
      "model_module_version": "2.0.0",
      "model_name": "LayoutModel",
      "state": {
       "grid_template_areas": "\n                                       \". . . . right \"\n                                        ",
       "grid_template_columns": "20% 20% 20% 20% 20%",
       "width": "100%"
      }
     },
     "edc0dbebea8640e0811d5516a50a27bb": {
      "model_module": "@jupyter-widgets/controls",
      "model_module_version": "2.0.0",
      "model_name": "HTMLModel",
      "state": {
       "layout": "IPY_MODEL_861c21f43982464394a39361a9dfe41c",
       "style": "IPY_MODEL_8dbb142a155f4a4a9e83566e42f8c032",
       "value": "<h5>Queue</h5>"
      }
     }
    },
    "version_major": 2,
    "version_minor": 0
   }
  }
 },
 "nbformat": 4,
 "nbformat_minor": 5
}
